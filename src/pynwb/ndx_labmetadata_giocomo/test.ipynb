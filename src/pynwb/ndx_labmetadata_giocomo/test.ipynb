{
 "cells": [
  {
   "cell_type": "code",
   "execution_count": null,
   "metadata": {},
   "outputs": [],
   "source": [
    "from datetime import datetime\n",
    "from pynwb import NWBFile, NWBHDF5IO\n",
    "from ndx_labmetadata_giocomo import LabMetaData_ext"
   ]
  },
  {
   "cell_type": "code",
   "execution_count": null,
   "metadata": {},
   "outputs": [],
   "source": [
    "nwb = NWBFile('session_description', 'identifier', datetime.now().astimezone())\n",
    "\n",
    "# Creates LabMetaData container\n",
    "lab_metadata = LabMetaData_ext(\n",
    "    name='LabMetaData',\n",
    "    acquisition_sampling_rate=1000.,\n",
    "    number_of_electrodes=10,\n",
    "    file_path='',\n",
    "    bytes_to_skip=2,\n",
    "    raw_data_dtype='int16',\n",
    "    high_pass_filtered=False,\n",
    "    movie_start_time=13.6,\n",
    ")\n",
    "\n",
    "# Add to file\n",
    "nwb.add_lab_meta_data(lab_metadata)\n",
    "\n",
    "# Write nwb file\n",
    "with NWBHDF5IO('test_labmetadata.nwb', 'w') as io:\n",
    "    io.write(nwb)\n",
    "\n",
    "# Read nwb file and check its content\n",
    "with NWBHDF5IO('test_labmetadata.nwb', 'r', load_namespaces=True) as io:\n",
    "    nwb = io.read()\n",
    "    print(nwb.lab_meta_data['LabMetaData'])"
   ]
  }
 ],
 "metadata": {
  "kernelspec": {
   "display_name": "Python 3",
   "language": "python",
   "name": "python3"
  },
  "language_info": {
   "codemirror_mode": {
    "name": "ipython",
    "version": 3
   },
   "file_extension": ".py",
   "mimetype": "text/x-python",
   "name": "python",
   "nbconvert_exporter": "python",
   "pygments_lexer": "ipython3",
   "version": "3.7.4"
  }
 },
 "nbformat": 4,
 "nbformat_minor": 2
}
